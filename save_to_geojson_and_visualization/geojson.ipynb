{
  "nbformat": 4,
  "nbformat_minor": 0,
  "metadata": {
    "colab": {
      "name": "geojson",
      "provenance": [],
      "collapsed_sections": []
    },
    "kernelspec": {
      "name": "python3",
      "display_name": "Python 3"
    },
    "language_info": {
      "name": "python"
    }
  },
  "cells": [
    {
      "cell_type": "code",
      "metadata": {
        "id": "RMducwgPDsRu"
      },
      "source": [
        "from geojson import MultiPoint"
      ],
      "execution_count": null,
      "outputs": []
    },
    {
      "cell_type": "code",
      "metadata": {
        "id": "sc_TzlLjEHeb"
      },
      "source": [
        "sights = [(59.916389,30.318611), (59.9386111111,30.2561111111), (59.936024308,30.3259956416), (59.93461,30.33253), (59.940119,30.328904), (59.95006,30.315913), (59.948699,30.327187), (59.941715,30.299208)]"
      ],
      "execution_count": null,
      "outputs": []
    },
    {
      "cell_type": "code",
      "metadata": {
        "id": "sUpaG-dhGhFw"
      },
      "source": [
        "# сохранение в geojson отдельных точек \n",
        "from geojson import Feature, Point\n",
        "sights = [(t[1], t[0]) for t in sights]\n",
        "sights = MultiPoint(sights)\n",
        "sights = Feature(geometry=sights, properties={\"name\": \"sights\"})\n"
      ],
      "execution_count": null,
      "outputs": []
    },
    {
      "cell_type": "code",
      "source": [
        ""
      ],
      "metadata": {
        "id": "qyo75iSNEI2A"
      },
      "execution_count": null,
      "outputs": []
    },
    {
      "cell_type": "code",
      "metadata": {
        "id": "djPgtwdPKDkG"
      },
      "source": [
        "byFoot1 = [(59.936024308,30.3259956416),(59.935829,30.3267954),(59.9354749,30.3266508),(59.9353799,30.3266451),(59.935347,30.3269119),(59.9352375,30.3278009),(59.9351837,30.3282331),(59.9350415,30.3293873),(59.9349047,30.3304978),(59.9347795,30.3305376),(59.9346175,30.3318342),(59.9345613,30.3322895),(59.93461,30.33253)] "
      ],
      "execution_count": null,
      "outputs": []
    },
    {
      "cell_type": "code",
      "metadata": {
        "id": "QVL93jMqL47m"
      },
      "source": [
        "byFoot2 = [(59.93461,30.33253),(59.9345613,30.3322895),(59.9346175,30.3318342),(59.9347795,30.3305376),(59.9349047,30.3304978),(59.9350415,30.3293873),(59.9351837,30.3282331),(59.9352375,30.3278009),(59.935347,30.3269119),(59.9353799,30.3266451),(59.9354749,30.3266508),(59.935829,30.3267954),(59.9361286,30.3269178),(59.9363209,30.3269964),(59.9371331,30.3273281),(59.9372492,30.3273756),(59.9383489,30.3278251),(59.9383807,30.3278379),(59.9391755,30.3281627),(59.9396936,30.3283744),(59.9397076,30.3285589),(59.9397174,30.3287106),(59.9397132,30.3288904),(59.9397078,30.329048),(59.9397214,30.3292035),(59.9397535,30.3293479),(59.9398019,30.3294727),(59.939864,30.3295706),(59.9399361,30.3296358),(59.9400138,30.3296644),(59.9400928,30.3296549),(59.9401683,30.3296078),(59.9402359,30.3295258),(59.9402916,30.3294138),(59.9403323,30.3292783),(59.9403702,30.3289125),(59.940119,30.328904)] "
      ],
      "execution_count": null,
      "outputs": []
    },
    {
      "cell_type": "code",
      "metadata": {
        "id": "_TT20_XS60jz"
      },
      "source": [
        "byFoot3 = [(59.95006,30.315913),(59.9524606,30.3135873),(59.9526211,30.3142364),(59.9527178,30.3146937),(59.9528447,30.3155011),(59.9528783,30.3157599),(59.952928,30.3162172),(59.9529676,30.3167),(59.9529844,30.3169517),(59.9530462,30.3182628),(59.9530549,30.318814),(59.9530576,30.3194077),(59.9530489,30.3199844),(59.9530326,30.3205192),(59.9530227,30.320785),(59.9529703,30.3216299),(59.9529434,30.3219692),(59.9528761,30.3226697),(59.9528615,30.3228421),(59.952881,30.3230415),(59.9529024,30.3231982),(59.9529405 ,30.323323),(59.9530897,30.3236718),(59.9527007,30.3239841),(59.9510204,30.3254482),(59.9469273,30.3288911),(59.948699,30.327187)] "
      ],
      "execution_count": null,
      "outputs": []
    },
    {
      "cell_type": "code",
      "metadata": {
        "id": "ymLZPM9umTG8"
      },
      "source": [
        "byFoot3 = [(t[1], t[0]) for t in byFoot3]"
      ],
      "execution_count": null,
      "outputs": []
    },
    {
      "cell_type": "code",
      "metadata": {
        "id": "PeYglYgiLNsY"
      },
      "source": [
        "# сохроанение нескольких точек\n",
        "byFoot = MultiPoint(byFoot3)\n",
        "byFoot = Feature(geometry=byFoot, properties={\"name\": \"byFoot3\"})"
      ],
      "execution_count": null,
      "outputs": []
    },
    {
      "cell_type": "code",
      "metadata": {
        "id": "lJAPGfj2L4WO"
      },
      "source": [
        "from geojson import Point, Feature, FeatureCollection, dump\n",
        "\n",
        "with open('sights.geojson', 'w') as f:\n",
        "   dump(sights, f)"
      ],
      "execution_count": null,
      "outputs": []
    },
    {
      "cell_type": "code",
      "metadata": {
        "id": "UxyO3OOTmp_a"
      },
      "source": [
        "with open('byFoot3.geojson', 'w') as f:\n",
        "   dump(byFoot, f)"
      ],
      "execution_count": null,
      "outputs": []
    },
    {
      "cell_type": "code",
      "metadata": {
        "id": "yAJxNRAP1LPy"
      },
      "source": [
        "\n",
        "allLineBus = []\n",
        "\n",
        "#busesIndexes = [[2891 2896],[21147 21152], [21196 21208], [17455,17458], [15734,15740], [15787,15794]] \n",
        "#busesIndexes = [[2891, 2897],[21147, 21153], [21196, 21209], [2896, 2899], [15734,15740], [15787,15794]]\n",
        "#Church of the Savior on Spilled Blood \n",
        "#59.940094 30.328583\n",
        "#Temple Theodore Icon of the Mother of God \n",
        "#59.926205 30.368713\n",
        "#sights = [(59.940094, 30.328583), (59.926205,30.368713)]\n",
        "##sights = [(59.940094, 30.328583),(60.058952,30.334902)]\n",
        "# sights = [(59.999986,30.206868),(59.990715,30.441014)]\n",
        "sights = [(60.058298, 30.331365),(59.834088, 30.349234)]\n",
        "from geojson import Feature, Point, MultiPoint\n",
        "sights = [(t[1], t[0]) for t in sights]\n",
        "sights = MultiPoint(sights)\n",
        "sights = Feature(geometry=sights, properties={\"name\": \"sights\"})\n",
        "\n",
        "from geojson import Point, Feature, FeatureCollection, dump\n",
        "\n",
        "#with open('sights_com.geojson', 'w') as f:\n",
        "#   dump(sights, f)\n",
        "\n",
        "#busesIndexes =  [[17456,17466],[1237,1244],[5459,5469]]\n",
        "#busesIndexes = [[8101,8134],[4619,4656]]\n",
        "#busesIndexes =  [[3284, 3323],[1958,1967]]\n",
        "busesIndexes = [[19017,19026],[19979,19988]]\n",
        "\n",
        "busesIndexes = [[17455,17459]]\n",
        "\n",
        "\n",
        "busesIndexes = [[15787,15794]]\n",
        "\n",
        "number = 0\n",
        "import pandas as pd\n",
        "from ast import literal_eval\n",
        "from geojson import LineString, Feature\n",
        "df = pd.read_csv('17:10')\n",
        "for bus in busesIndexes:\n",
        "  a = list(df.iloc[bus[0]:bus[1]][\"coordinates\"].tolist())\n",
        "  coordsForBus = []\n",
        "  number += 1\n",
        "  for i in a:\n",
        "    coordsForBus.append(eval(i))\n",
        "  coordsForBus = [(t[1], t[0]) for t in coordsForBus]\n",
        "  #allLineBus.append(coordsForBus)\n",
        "\n",
        "  b = LineString(coordsForBus)\n",
        "  busnumber = Feature(geometry=b, properties={\"name\": f\"bus{number}\"})\n",
        "  \n",
        "  from geojson import LineString, Feature, dump\n",
        "  number = 5\n",
        "  with open(f'busnumber_sights{number}.geojson', 'w') as f:\n",
        "    dump(busnumber, f)\n",
        "\n",
        "#  with open(f'busnumber{number}.geojson', 'w') as f:\n",
        "#    dump(busnumber, f)\n",
        "  \n",
        "  #print(f'busnumber{number}')\n"
      ],
      "execution_count": null,
      "outputs": []
    },
    {
      "cell_type": "code",
      "metadata": {
        "id": "Apz1zxdkG-GD"
      },
      "source": [
        "# сохранение линий\n",
        "from geojson import MultiLineString, Feature, dump\n",
        "\n",
        "with open('busnumber.geojson', 'w') as f:\n",
        "   dump(busnumber, f)"
      ],
      "execution_count": null,
      "outputs": []
    },
    {
      "cell_type": "code",
      "metadata": {
        "colab": {
          "base_uri": "https://localhost:8080/",
          "height": 198
        },
        "id": "cLhT7Z7YG-Qy",
        "outputId": "812df9eb-dc73-4ecf-bc30-817a08214fc7"
      },
      "source": [
        "coordsForBus = [(t[1], t[0]) for t in coordsForBus]"
      ],
      "execution_count": null,
      "outputs": [
        {
          "output_type": "error",
          "ename": "TypeError",
          "evalue": "ignored",
          "traceback": [
            "\u001b[0;31m---------------------------------------------------------------------------\u001b[0m",
            "\u001b[0;31mTypeError\u001b[0m                                 Traceback (most recent call last)",
            "\u001b[0;32m<ipython-input-75-cc3122de77e9>\u001b[0m in \u001b[0;36m<module>\u001b[0;34m()\u001b[0m\n\u001b[0;32m----> 1\u001b[0;31m \u001b[0mcoordsForBus\u001b[0m \u001b[0;34m=\u001b[0m \u001b[0;34m[\u001b[0m\u001b[0;34m(\u001b[0m\u001b[0mt\u001b[0m\u001b[0;34m[\u001b[0m\u001b[0;36m1\u001b[0m\u001b[0;34m]\u001b[0m\u001b[0;34m,\u001b[0m \u001b[0mt\u001b[0m\u001b[0;34m[\u001b[0m\u001b[0;36m0\u001b[0m\u001b[0;34m]\u001b[0m\u001b[0;34m)\u001b[0m \u001b[0;32mfor\u001b[0m \u001b[0mt\u001b[0m \u001b[0;32min\u001b[0m \u001b[0mcoordsForBus\u001b[0m\u001b[0;34m]\u001b[0m\u001b[0;34m\u001b[0m\u001b[0;34m\u001b[0m\u001b[0m\n\u001b[0m",
            "\u001b[0;31mTypeError\u001b[0m: 'function' object is not iterable"
          ]
        }
      ]
    },
    {
      "cell_type": "code",
      "metadata": {
        "colab": {
          "base_uri": "https://localhost:8080/"
        },
        "id": "XDdZaIppG-Tb",
        "outputId": "88c16b7a-1109-4536-b6f6-4d7bca5ec25d"
      },
      "source": [
        "#busesIndexes = [[2891, 2897],[21147, 21153], [21196, 21209], [2896, 2899], [15734,15740], [15787,15794]]\n",
        "busesIndexes = [[3050,3056]]\n",
        "import math\n",
        "\n",
        "busesIndexes =  [[8101,8134],[4619,4656]]\n",
        "\n",
        "busesIndexes =  [[19017,19026],[19979,19988]]\n",
        "busesIndexes = [[17455,17459]]\n",
        "busesIndexes = [[15787,15794]]\n",
        "\n",
        "\n",
        "#sigt = [[\"Tekhnologichesky Institut\", \"Vasilyevsky Island\"],[\"Channel Griboedova Embankment\",\"Nevsky Prospekt\"], [\"Church of the Savior on Spilled Blood\" , \"Peter and Paul Fortress\"],[\"Trinity Bridge\",\"Mineralogy Museum\"]]\n",
        "#sig = [[\"Tekhnologichesky Institut\", \"transfer\"], [\"transfer\", \"Vasilyevsky Island\"],[\"Vasilyevsky Island\", \"Channel Griboedova Embankment\"], [\"Church of the Savior on Spilled Blood\" , \"Peter and Paul Fortress\"],[\"Peter and Paul Fortress\", \"Trinity Bridge\"],[\"Trinity Bridge\", \"Mineralogy Museum\"]]\n",
        "#sig = [[\"Church of the Savior on Spilled Blood\", \"Temple Theodore Icon of the Mother of God\"]]\n",
        "#sig = [\"Church of the Savior on Spilled Blood\", \"transfer1\"], [\"transfer1\", \"transfer2\"], [\"transfer2\", \"Genium Park\"]\n",
        "\n",
        "#sig = [[\"South\", \"transfer\"], [\"transfer\", \"North\"]]\n",
        "sig = [[\"North\", \"tranfer\"], [\"tranfer\", \"South\"]]\n",
        "\n",
        "df = pd.read_csv('17:10')\n",
        "number = 0\n",
        "\n",
        "if len(busesIndexes) == 1:\n",
        "  fare = 50\n",
        "elif len(busesIndexes) == 2:\n",
        "  fare = 100\n",
        "elif len(busesIndexes) == 3:\n",
        "  fare = 150\n",
        "\n",
        "\n",
        "for i in busesIndexes:\n",
        "  number += 1\n",
        "  beginstops = df.iloc[i[0]][\"stop_name\"]\n",
        "  endstops = df.iloc[i[1]][\"stop_name\"]\n",
        "  bus = df.iloc[i[0]][\"route_short_name\"]\n",
        "  time = math.floor(sum(df.iloc[i[0]:i[1]][\"timeBetweenStop\"])/60)\n",
        "  print(\"\")\n",
        "  print(f\"Route {number}. From {sig[number-1][0]} to {sig[number-1][1]}. From bus station {beginstops} to bus station {endstops} with bus number {bus}.Time in way {time} minutes. Fare 50\")"
      ],
      "execution_count": null,
      "outputs": [
        {
          "output_type": "stream",
          "text": [
            "\n",
            "Route 1. From North to tranfer. From bus station Троицкая пл.  to bus station Ст. метро \"Василеостровская\" with bus number 40.Time in way 18 minutes. Fare 50\n"
          ],
          "name": "stdout"
        }
      ]
    },
    {
      "cell_type": "code",
      "metadata": {
        "colab": {
          "base_uri": "https://localhost:8080/"
        },
        "id": "SrzQYLgO5pa2",
        "outputId": "e6f0df4f-8193-4bbe-f348-b6bd9b8a7b90"
      },
      "source": [
        "b = MultiLineString(coordsForBus)\n",
        "busnumber = Feature(geometry=b, properties={\"name\": f\"bus{number}\"})"
      ],
      "execution_count": null,
      "outputs": [
        {
          "output_type": "execute_result",
          "data": {
            "text/plain": [
              "(60.0357585185843, 30.4195004)"
            ]
          },
          "metadata": {
            "tags": []
          },
          "execution_count": 26
        }
      ]
    }
  ]
}